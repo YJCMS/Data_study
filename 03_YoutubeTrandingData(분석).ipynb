{
 "cells": [
  {
   "cell_type": "markdown",
   "id": "e768d26f",
   "metadata": {},
   "source": [
    "## 데이터\n",
    "- YouTube Trending Video Dataset (updated daily) 2022.04.14 기준\n",
    "- https://www.kaggle.com/datasets/rsrishav/youtube-trending-video-dataset"
   ]
  },
  {
   "cell_type": "markdown",
   "id": "d8c1f3ea",
   "metadata": {},
   "source": [
    "## 분석 목적\n",
    "\n",
    "- 한국 지역 한정\n",
    "- 유튜브 인기 동영상으로 선정되는 요소 및 기준 분석\n",
    "- 동영상의 제목, 좋아요/싫어요 수, 카테고리, 업로드 날짜 등의 항목과 조회수의 관계를 분석 "
   ]
  },
  {
   "cell_type": "code",
   "execution_count": 1,
   "id": "217d4788",
   "metadata": {},
   "outputs": [],
   "source": [
    "# 기본\n",
    "import numpy as np\n",
    "import pandas as pd\n",
    "import matplotlib.pyplot as plt\n",
    "import seaborn as sns\n",
    "import json\n",
    "from datetime import timedelta\n",
    "\n",
    "# 경고 뜨지 않게...\n",
    "import warnings\n",
    "warnings.filterwarnings('ignore')\n",
    "\n",
    "# 그래프 설정\n",
    "plt.rcParams['font.family'] = 'Malgun Gothic'\n",
    "# plt.rcParams['font.family'] = 'AppleGothic'\n",
    "plt.rcParams['font.size'] = 16\n",
    "plt.rcParams['figure.figsize'] = 20, 10\n",
    "plt.rcParams['axes.unicode_minus'] = False\n",
    "\n",
    "# 데이터 전처리 알고리즘\n",
    "from sklearn.preprocessing import LabelEncoder\n",
    "from sklearn.preprocessing import StandardScaler\n",
    "\n",
    "# 상관관계\n",
    "from patsy import dmatrices\n",
    "import statsmodels.api as sm\n",
    "from statsmodels.stats.outliers_influence import variance_inflation_factor"
   ]
  },
  {
   "cell_type": "markdown",
   "id": "7d9c177e",
   "metadata": {},
   "source": [
    "## 목차\n",
    "\n",
    "### 1. 데이터 전처리 \n",
    "    (1) videoId\n",
    "    (2) categoryId & category\n",
    "    (3) publishedAt & trending_date\n",
    "    (4) trendTime-publiTime\n",
    "    (5) Ratio \n",
    "    (6) title_length"
   ]
  },
  {
   "cell_type": "markdown",
   "id": "18ab9275",
   "metadata": {},
   "source": [
    "## 1. 데이터 전처리"
   ]
  },
  {
   "cell_type": "code",
   "execution_count": 2,
   "id": "0f3d655c",
   "metadata": {},
   "outputs": [
    {
     "data": {
      "text/html": [
       "<div>\n",
       "<style scoped>\n",
       "    .dataframe tbody tr th:only-of-type {\n",
       "        vertical-align: middle;\n",
       "    }\n",
       "\n",
       "    .dataframe tbody tr th {\n",
       "        vertical-align: top;\n",
       "    }\n",
       "\n",
       "    .dataframe thead th {\n",
       "        text-align: right;\n",
       "    }\n",
       "</style>\n",
       "<table border=\"1\" class=\"dataframe\">\n",
       "  <thead>\n",
       "    <tr style=\"text-align: right;\">\n",
       "      <th></th>\n",
       "      <th>video_id</th>\n",
       "      <th>title</th>\n",
       "      <th>publishedAt</th>\n",
       "      <th>channelId</th>\n",
       "      <th>channelTitle</th>\n",
       "      <th>categoryId</th>\n",
       "      <th>trending_date</th>\n",
       "      <th>tags</th>\n",
       "      <th>view_count</th>\n",
       "      <th>likes</th>\n",
       "      <th>dislikes</th>\n",
       "      <th>comment_count</th>\n",
       "      <th>thumbnail_link</th>\n",
       "      <th>comments_disabled</th>\n",
       "      <th>ratings_disabled</th>\n",
       "      <th>description</th>\n",
       "    </tr>\n",
       "  </thead>\n",
       "  <tbody>\n",
       "    <tr>\n",
       "      <th>0</th>\n",
       "      <td>uq5LClQN3cE</td>\n",
       "      <td>안녕하세요 보겸입니다</td>\n",
       "      <td>2020-08-09T09:32:48Z</td>\n",
       "      <td>UCu9BCtGIEr73LXZsKmoujKw</td>\n",
       "      <td>보겸 BK</td>\n",
       "      <td>24</td>\n",
       "      <td>2020-08-12T00:00:00Z</td>\n",
       "      <td>보겸|bokyem</td>\n",
       "      <td>5947503</td>\n",
       "      <td>53326</td>\n",
       "      <td>105756</td>\n",
       "      <td>139946</td>\n",
       "      <td>https://i.ytimg.com/vi/uq5LClQN3cE/default.jpg</td>\n",
       "      <td>False</td>\n",
       "      <td>False</td>\n",
       "      <td>NaN</td>\n",
       "    </tr>\n",
       "    <tr>\n",
       "      <th>1</th>\n",
       "      <td>I-ZbZCHsHD0</td>\n",
       "      <td>부락토스의 계획 [총몇명 프리퀄]</td>\n",
       "      <td>2020-08-12T09:00:08Z</td>\n",
       "      <td>UCRuSxVu4iqTK5kCh90ntAgA</td>\n",
       "      <td>총몇명</td>\n",
       "      <td>1</td>\n",
       "      <td>2020-08-12T00:00:00Z</td>\n",
       "      <td>총몇명|재밌는 만화|부락토스|루시퍼|총몇명 프리퀄|총몇명 스토리</td>\n",
       "      <td>963384</td>\n",
       "      <td>28244</td>\n",
       "      <td>494</td>\n",
       "      <td>3339</td>\n",
       "      <td>https://i.ytimg.com/vi/I-ZbZCHsHD0/default.jpg</td>\n",
       "      <td>False</td>\n",
       "      <td>False</td>\n",
       "      <td>오늘도 정말 감사드립니다!!총몇명 스튜디오 - 총몇명, 십제곱, 5G민, MOVE혁...</td>\n",
       "    </tr>\n",
       "    <tr>\n",
       "      <th>2</th>\n",
       "      <td>9d7jNUjBoss</td>\n",
       "      <td>평생 반성하면서 살겠습니다.</td>\n",
       "      <td>2020-08-10T09:54:13Z</td>\n",
       "      <td>UCMVC92EOs9yDJG5JS-CMesQ</td>\n",
       "      <td>양팡 YangPang</td>\n",
       "      <td>22</td>\n",
       "      <td>2020-08-12T00:00:00Z</td>\n",
       "      <td>양팡|양팡유튜브|팡튜브|가족시트콤|양팡가족|양팡가족시트콤|양팡언니|현실남매|현실자매...</td>\n",
       "      <td>2950885</td>\n",
       "      <td>17974</td>\n",
       "      <td>68898</td>\n",
       "      <td>50688</td>\n",
       "      <td>https://i.ytimg.com/vi/9d7jNUjBoss/default.jpg</td>\n",
       "      <td>False</td>\n",
       "      <td>False</td>\n",
       "      <td>NaN</td>\n",
       "    </tr>\n",
       "    <tr>\n",
       "      <th>3</th>\n",
       "      <td>3pI_L3-sMVg</td>\n",
       "      <td>안녕하세요 꽈뚜룹입니다.</td>\n",
       "      <td>2020-08-11T15:00:58Z</td>\n",
       "      <td>UCkQCwnkQfgSuPTTnw_Y7v7w</td>\n",
       "      <td>꽈뚜룹 Quaddurup</td>\n",
       "      <td>24</td>\n",
       "      <td>2020-08-12T00:00:00Z</td>\n",
       "      <td>꽈뚜룹|한국여행기|quaddurup|뚜룹이|korea|southkorea|vlog|...</td>\n",
       "      <td>1743374</td>\n",
       "      <td>36893</td>\n",
       "      <td>1798</td>\n",
       "      <td>8751</td>\n",
       "      <td>https://i.ytimg.com/vi/3pI_L3-sMVg/default.jpg</td>\n",
       "      <td>False</td>\n",
       "      <td>False</td>\n",
       "      <td>앞으로 좀 더 깔끔한 영상제작 약속 드리겠습니다.늘 감사드립니다</td>\n",
       "    </tr>\n",
       "    <tr>\n",
       "      <th>4</th>\n",
       "      <td>zrsBjYukE8s</td>\n",
       "      <td>박진영 (J.Y. Park) When We Disco (Duet with 선미) M/V</td>\n",
       "      <td>2020-08-11T09:00:13Z</td>\n",
       "      <td>UCaO6TYtlC8U5ttz62hTrZgg</td>\n",
       "      <td>JYP Entertainment</td>\n",
       "      <td>10</td>\n",
       "      <td>2020-08-12T00:00:00Z</td>\n",
       "      <td>JYP Entertainment|JYP|J.Y.Park|JYPark|박진영|선미|S...</td>\n",
       "      <td>3433885</td>\n",
       "      <td>353337</td>\n",
       "      <td>9763</td>\n",
       "      <td>23405</td>\n",
       "      <td>https://i.ytimg.com/vi/zrsBjYukE8s/default.jpg</td>\n",
       "      <td>False</td>\n",
       "      <td>False</td>\n",
       "      <td>MelOn http://kko.to/TWyXd7zYjSpotify https://s...</td>\n",
       "    </tr>\n",
       "    <tr>\n",
       "      <th>...</th>\n",
       "      <td>...</td>\n",
       "      <td>...</td>\n",
       "      <td>...</td>\n",
       "      <td>...</td>\n",
       "      <td>...</td>\n",
       "      <td>...</td>\n",
       "      <td>...</td>\n",
       "      <td>...</td>\n",
       "      <td>...</td>\n",
       "      <td>...</td>\n",
       "      <td>...</td>\n",
       "      <td>...</td>\n",
       "      <td>...</td>\n",
       "      <td>...</td>\n",
       "      <td>...</td>\n",
       "      <td>...</td>\n",
       "    </tr>\n",
       "    <tr>\n",
       "      <th>119949</th>\n",
       "      <td>33hhNb4mBIc</td>\n",
       "      <td>🚙 우리 지금 어디가?｜모닝루틴, 스킨케어, 비원츠 아이세럼스틱, 해방촌, OEAT</td>\n",
       "      <td>2022-04-01T09:00:01Z</td>\n",
       "      <td>UC2ukAHT9BdMuyD3iOyDrGDA</td>\n",
       "      <td>문세훈 (Moon Sehoon)</td>\n",
       "      <td>22</td>\n",
       "      <td>2022-04-14T00:00:00Z</td>\n",
       "      <td>문세훈|sehoon|세훈|신지연|솔로지옥|지연|데이트|해방촌|이태원|스킨케어|남자스...</td>\n",
       "      <td>1371881</td>\n",
       "      <td>48319</td>\n",
       "      <td>0</td>\n",
       "      <td>3552</td>\n",
       "      <td>https://i.ytimg.com/vi/33hhNb4mBIc/default.jpg</td>\n",
       "      <td>False</td>\n",
       "      <td>False</td>\n",
       "      <td>안녕하세요 문세훈입니다오늘은 비원츠와 함께하는 저의 스킨케어 루틴,그리고 커피를 한...</td>\n",
       "    </tr>\n",
       "    <tr>\n",
       "      <th>119950</th>\n",
       "      <td>AeeBm4ulKj0</td>\n",
       "      <td>53만원🤑입생로랑🆚️46만원💸아르마니 어드벤트 캘린더 비교 언빡싱</td>\n",
       "      <td>2022-04-03T10:00:09Z</td>\n",
       "      <td>UCnekLiljel-Px4ClMC7b3mg</td>\n",
       "      <td>회사원A</td>\n",
       "      <td>26</td>\n",
       "      <td>2022-04-14T00:00:00Z</td>\n",
       "      <td>[None]</td>\n",
       "      <td>337342</td>\n",
       "      <td>5622</td>\n",
       "      <td>0</td>\n",
       "      <td>211</td>\n",
       "      <td>https://i.ytimg.com/vi/AeeBm4ulKj0/default.jpg</td>\n",
       "      <td>False</td>\n",
       "      <td>False</td>\n",
       "      <td>이 영상은 광고 계약사항 없는 오리지널 컨텐츠입니다.아르마니 뷰티 어드벤트캘린더, ...</td>\n",
       "    </tr>\n",
       "    <tr>\n",
       "      <th>119951</th>\n",
       "      <td>6kaHgbQLbDo</td>\n",
       "      <td>구멍난 벽에 미로 만들기</td>\n",
       "      <td>2022-04-02T03:24:06Z</td>\n",
       "      <td>UCd4FmcWIVdWAy0-Q8OJBloQ</td>\n",
       "      <td>사나고 Sanago</td>\n",
       "      <td>26</td>\n",
       "      <td>2022-04-14T00:00:00Z</td>\n",
       "      <td>사나고|3D펜|3Dpen|만들기|making|3d프린터|3Dprinting</td>\n",
       "      <td>472724</td>\n",
       "      <td>13307</td>\n",
       "      <td>0</td>\n",
       "      <td>792</td>\n",
       "      <td>https://i.ytimg.com/vi/6kaHgbQLbDo/default.jpg</td>\n",
       "      <td>False</td>\n",
       "      <td>False</td>\n",
       "      <td>● 3D펜 사나고 샵https://smartstore.naver.com/sanago...</td>\n",
       "    </tr>\n",
       "    <tr>\n",
       "      <th>119952</th>\n",
       "      <td>VCeMOtwdDps</td>\n",
       "      <td>[4K] NMIXX(엔믹스) - “Kill This Love(by 블랙핑크)” Ba...</td>\n",
       "      <td>2022-04-01T08:00:10Z</td>\n",
       "      <td>UCB9e3pof1o83aa0kkaoeJGA</td>\n",
       "      <td>it's Live</td>\n",
       "      <td>24</td>\n",
       "      <td>2022-04-14T00:00:00Z</td>\n",
       "      <td>NMIXX|엔믹스|블랙핑크|BLACKPINK|Kill This Love|Kill T...</td>\n",
       "      <td>2602749</td>\n",
       "      <td>230222</td>\n",
       "      <td>0</td>\n",
       "      <td>12793</td>\n",
       "      <td>https://i.ytimg.com/vi/VCeMOtwdDps/default.jpg</td>\n",
       "      <td>False</td>\n",
       "      <td>False</td>\n",
       "      <td>JYP 신인 걸그룹 NMIXX(엔믹스)가 잇츠라이브에 떴다!!😋카리스마 넘치는 랩과...</td>\n",
       "    </tr>\n",
       "    <tr>\n",
       "      <th>119953</th>\n",
       "      <td>gNhNfS_HjCs</td>\n",
       "      <td>[EN] 유니짜장 + 중화요리 코스(?) 먹방! [둘이 왔어요 EP36]</td>\n",
       "      <td>2022-04-01T09:00:18Z</td>\n",
       "      <td>UC__J0wvxgqq4kg3i5iTgkLQ</td>\n",
       "      <td>운동부 둘이 왔어요</td>\n",
       "      <td>19</td>\n",
       "      <td>2022-04-14T00:00:00Z</td>\n",
       "      <td>#현주엽|#김태균|#먹방|#운동부|#농구|#야구|#축구|#소고기|#돼지고기|#갈비|...</td>\n",
       "      <td>901695</td>\n",
       "      <td>11531</td>\n",
       "      <td>0</td>\n",
       "      <td>467</td>\n",
       "      <td>https://i.ytimg.com/vi/gNhNfS_HjCs/default.jpg</td>\n",
       "      <td>False</td>\n",
       "      <td>False</td>\n",
       "      <td>현주엽의 서른한 번째 맛집 리스트 [평택]짜장면, 짬뽕, 탕수육만 먹고 살던 태균이...</td>\n",
       "    </tr>\n",
       "  </tbody>\n",
       "</table>\n",
       "<p>119954 rows × 16 columns</p>\n",
       "</div>"
      ],
      "text/plain": [
       "           video_id                                              title  \\\n",
       "0       uq5LClQN3cE                                        안녕하세요 보겸입니다   \n",
       "1       I-ZbZCHsHD0                                 부락토스의 계획 [총몇명 프리퀄]   \n",
       "2       9d7jNUjBoss                                    평생 반성하면서 살겠습니다.   \n",
       "3       3pI_L3-sMVg                               안녕하세요 꽈뚜룹입니다.   \n",
       "4       zrsBjYukE8s   박진영 (J.Y. Park) When We Disco (Duet with 선미) M/V   \n",
       "...             ...                                                ...   \n",
       "119949  33hhNb4mBIc     🚙 우리 지금 어디가?｜모닝루틴, 스킨케어, 비원츠 아이세럼스틱, 해방촌, OEAT   \n",
       "119950  AeeBm4ulKj0               53만원🤑입생로랑🆚️46만원💸아르마니 어드벤트 캘린더 비교 언빡싱   \n",
       "119951  6kaHgbQLbDo                                      구멍난 벽에 미로 만들기   \n",
       "119952  VCeMOtwdDps  [4K] NMIXX(엔믹스) - “Kill This Love(by 블랙핑크)” Ba...   \n",
       "119953  gNhNfS_HjCs           [EN] 유니짜장 + 중화요리 코스(?) 먹방! [둘이 왔어요 EP36]   \n",
       "\n",
       "                 publishedAt                 channelId       channelTitle  \\\n",
       "0       2020-08-09T09:32:48Z  UCu9BCtGIEr73LXZsKmoujKw              보겸 BK   \n",
       "1       2020-08-12T09:00:08Z  UCRuSxVu4iqTK5kCh90ntAgA                총몇명   \n",
       "2       2020-08-10T09:54:13Z  UCMVC92EOs9yDJG5JS-CMesQ        양팡 YangPang   \n",
       "3       2020-08-11T15:00:58Z  UCkQCwnkQfgSuPTTnw_Y7v7w      꽈뚜룹 Quaddurup   \n",
       "4       2020-08-11T09:00:13Z  UCaO6TYtlC8U5ttz62hTrZgg  JYP Entertainment   \n",
       "...                      ...                       ...                ...   \n",
       "119949  2022-04-01T09:00:01Z  UC2ukAHT9BdMuyD3iOyDrGDA  문세훈 (Moon Sehoon)   \n",
       "119950  2022-04-03T10:00:09Z  UCnekLiljel-Px4ClMC7b3mg               회사원A   \n",
       "119951  2022-04-02T03:24:06Z  UCd4FmcWIVdWAy0-Q8OJBloQ         사나고 Sanago   \n",
       "119952  2022-04-01T08:00:10Z  UCB9e3pof1o83aa0kkaoeJGA          it's Live   \n",
       "119953  2022-04-01T09:00:18Z  UC__J0wvxgqq4kg3i5iTgkLQ         운동부 둘이 왔어요   \n",
       "\n",
       "        categoryId         trending_date  \\\n",
       "0               24  2020-08-12T00:00:00Z   \n",
       "1                1  2020-08-12T00:00:00Z   \n",
       "2               22  2020-08-12T00:00:00Z   \n",
       "3               24  2020-08-12T00:00:00Z   \n",
       "4               10  2020-08-12T00:00:00Z   \n",
       "...            ...                   ...   \n",
       "119949          22  2022-04-14T00:00:00Z   \n",
       "119950          26  2022-04-14T00:00:00Z   \n",
       "119951          26  2022-04-14T00:00:00Z   \n",
       "119952          24  2022-04-14T00:00:00Z   \n",
       "119953          19  2022-04-14T00:00:00Z   \n",
       "\n",
       "                                                     tags  view_count   likes  \\\n",
       "0                                               보겸|bokyem     5947503   53326   \n",
       "1                     총몇명|재밌는 만화|부락토스|루시퍼|총몇명 프리퀄|총몇명 스토리      963384   28244   \n",
       "2       양팡|양팡유튜브|팡튜브|가족시트콤|양팡가족|양팡가족시트콤|양팡언니|현실남매|현실자매...     2950885   17974   \n",
       "3       꽈뚜룹|한국여행기|quaddurup|뚜룹이|korea|southkorea|vlog|...     1743374   36893   \n",
       "4       JYP Entertainment|JYP|J.Y.Park|JYPark|박진영|선미|S...     3433885  353337   \n",
       "...                                                   ...         ...     ...   \n",
       "119949  문세훈|sehoon|세훈|신지연|솔로지옥|지연|데이트|해방촌|이태원|스킨케어|남자스...     1371881   48319   \n",
       "119950                                             [None]      337342    5622   \n",
       "119951          사나고|3D펜|3Dpen|만들기|making|3d프린터|3Dprinting      472724   13307   \n",
       "119952  NMIXX|엔믹스|블랙핑크|BLACKPINK|Kill This Love|Kill T...     2602749  230222   \n",
       "119953  #현주엽|#김태균|#먹방|#운동부|#농구|#야구|#축구|#소고기|#돼지고기|#갈비|...      901695   11531   \n",
       "\n",
       "        dislikes  comment_count  \\\n",
       "0         105756         139946   \n",
       "1            494           3339   \n",
       "2          68898          50688   \n",
       "3           1798           8751   \n",
       "4           9763          23405   \n",
       "...          ...            ...   \n",
       "119949         0           3552   \n",
       "119950         0            211   \n",
       "119951         0            792   \n",
       "119952         0          12793   \n",
       "119953         0            467   \n",
       "\n",
       "                                        thumbnail_link  comments_disabled  \\\n",
       "0       https://i.ytimg.com/vi/uq5LClQN3cE/default.jpg              False   \n",
       "1       https://i.ytimg.com/vi/I-ZbZCHsHD0/default.jpg              False   \n",
       "2       https://i.ytimg.com/vi/9d7jNUjBoss/default.jpg              False   \n",
       "3       https://i.ytimg.com/vi/3pI_L3-sMVg/default.jpg              False   \n",
       "4       https://i.ytimg.com/vi/zrsBjYukE8s/default.jpg              False   \n",
       "...                                                ...                ...   \n",
       "119949  https://i.ytimg.com/vi/33hhNb4mBIc/default.jpg              False   \n",
       "119950  https://i.ytimg.com/vi/AeeBm4ulKj0/default.jpg              False   \n",
       "119951  https://i.ytimg.com/vi/6kaHgbQLbDo/default.jpg              False   \n",
       "119952  https://i.ytimg.com/vi/VCeMOtwdDps/default.jpg              False   \n",
       "119953  https://i.ytimg.com/vi/gNhNfS_HjCs/default.jpg              False   \n",
       "\n",
       "        ratings_disabled                                        description  \n",
       "0                  False                                                NaN  \n",
       "1                  False  오늘도 정말 감사드립니다!!총몇명 스튜디오 - 총몇명, 십제곱, 5G민, MOVE혁...  \n",
       "2                  False                                                NaN  \n",
       "3                  False                앞으로 좀 더 깔끔한 영상제작 약속 드리겠습니다.늘 감사드립니다  \n",
       "4                  False  MelOn http://kko.to/TWyXd7zYjSpotify https://s...  \n",
       "...                  ...                                                ...  \n",
       "119949             False  안녕하세요 문세훈입니다오늘은 비원츠와 함께하는 저의 스킨케어 루틴,그리고 커피를 한...  \n",
       "119950             False  이 영상은 광고 계약사항 없는 오리지널 컨텐츠입니다.아르마니 뷰티 어드벤트캘린더, ...  \n",
       "119951             False  ● 3D펜 사나고 샵https://smartstore.naver.com/sanago...  \n",
       "119952             False  JYP 신인 걸그룹 NMIXX(엔믹스)가 잇츠라이브에 떴다!!😋카리스마 넘치는 랩과...  \n",
       "119953             False  현주엽의 서른한 번째 맛집 리스트 [평택]짜장면, 짬뽕, 탕수육만 먹고 살던 태균이...  \n",
       "\n",
       "[119954 rows x 16 columns]"
      ]
     },
     "execution_count": 2,
     "metadata": {},
     "output_type": "execute_result"
    }
   ],
   "source": [
    "df = pd.read_csv(\"data/KR_youtube_trending_data.csv\")\n",
    "df"
   ]
  },
  {
   "cell_type": "code",
   "execution_count": 3,
   "id": "2de0bfc1",
   "metadata": {},
   "outputs": [
    {
     "name": "stdout",
     "output_type": "stream",
     "text": [
      "<class 'pandas.core.frame.DataFrame'>\n",
      "RangeIndex: 119954 entries, 0 to 119953\n",
      "Data columns (total 16 columns):\n",
      " #   Column             Non-Null Count   Dtype \n",
      "---  ------             --------------   ----- \n",
      " 0   video_id           119954 non-null  object\n",
      " 1   title              119954 non-null  object\n",
      " 2   publishedAt        119954 non-null  object\n",
      " 3   channelId          119954 non-null  object\n",
      " 4   channelTitle       119954 non-null  object\n",
      " 5   categoryId         119954 non-null  int64 \n",
      " 6   trending_date      119954 non-null  object\n",
      " 7   tags               119954 non-null  object\n",
      " 8   view_count         119954 non-null  int64 \n",
      " 9   likes              119954 non-null  int64 \n",
      " 10  dislikes           119954 non-null  int64 \n",
      " 11  comment_count      119954 non-null  int64 \n",
      " 12  thumbnail_link     119954 non-null  object\n",
      " 13  comments_disabled  119954 non-null  bool  \n",
      " 14  ratings_disabled   119954 non-null  bool  \n",
      " 15  description        116558 non-null  object\n",
      "dtypes: bool(2), int64(5), object(9)\n",
      "memory usage: 13.0+ MB\n"
     ]
    }
   ],
   "source": [
    "df.info()"
   ]
  },
  {
   "cell_type": "markdown",
   "id": "4c9dd9ad",
   "metadata": {},
   "source": [
    "- description 결측치 존재\n",
    "- description은 분석에 사용하지 않을 항목 중 하나로 삭제"
   ]
  },
  {
   "cell_type": "code",
   "execution_count": 4,
   "id": "92d78f71",
   "metadata": {},
   "outputs": [],
   "source": [
    "# 분석에 사용하지 않을 항목 삭제\n",
    "df.drop('description', axis=1, inplace=True)\n",
    "df.drop('thumbnail_link', axis=1, inplace=True)\n",
    "df.drop('comments_disabled', axis=1, inplace=True)\n",
    "df.drop('ratings_disabled', axis=1, inplace=True)"
   ]
  },
  {
   "cell_type": "code",
   "execution_count": 5,
   "id": "5885ab21",
   "metadata": {},
   "outputs": [
    {
     "name": "stdout",
     "output_type": "stream",
     "text": [
      "<class 'pandas.core.frame.DataFrame'>\n",
      "RangeIndex: 119954 entries, 0 to 119953\n",
      "Data columns (total 12 columns):\n",
      " #   Column         Non-Null Count   Dtype \n",
      "---  ------         --------------   ----- \n",
      " 0   video_id       119954 non-null  object\n",
      " 1   title          119954 non-null  object\n",
      " 2   publishedAt    119954 non-null  object\n",
      " 3   channelId      119954 non-null  object\n",
      " 4   channelTitle   119954 non-null  object\n",
      " 5   categoryId     119954 non-null  int64 \n",
      " 6   trending_date  119954 non-null  object\n",
      " 7   tags           119954 non-null  object\n",
      " 8   view_count     119954 non-null  int64 \n",
      " 9   likes          119954 non-null  int64 \n",
      " 10  dislikes       119954 non-null  int64 \n",
      " 11  comment_count  119954 non-null  int64 \n",
      "dtypes: int64(5), object(7)\n",
      "memory usage: 11.0+ MB\n"
     ]
    }
   ],
   "source": [
    "df.info()"
   ]
  },
  {
   "cell_type": "markdown",
   "id": "44d68fef",
   "metadata": {},
   "source": [
    "### (1) vidoe_id\n",
    "\n"
   ]
  },
  {
   "cell_type": "code",
   "execution_count": 6,
   "id": "7923eb0f",
   "metadata": {},
   "outputs": [
    {
     "data": {
      "text/plain": [
       "True     104809\n",
       "False     15145\n",
       "Name: video_id, dtype: int64"
      ]
     },
     "execution_count": 6,
     "metadata": {},
     "output_type": "execute_result"
    }
   ],
   "source": [
    "df[\"video_id\"].duplicated().value_counts()"
   ]
  },
  {
   "cell_type": "markdown",
   "id": "55545eec",
   "metadata": {},
   "source": [
    "- 중복된 video_id 값 다수 존재\n",
    "- 동일한 영상이 연속적으로 인기동영상으로 선정된 경우\n",
    "- 일자별로 trending_data가 생겼기 때문"
   ]
  },
  {
   "cell_type": "code",
   "execution_count": 7,
   "id": "21796e7f",
   "metadata": {},
   "outputs": [],
   "source": [
    "df = df.drop_duplicates([\"video_id\"])[:]"
   ]
  },
  {
   "cell_type": "code",
   "execution_count": 8,
   "id": "ba20c212",
   "metadata": {
    "scrolled": true
   },
   "outputs": [
    {
     "data": {
      "text/plain": [
       "False    15145\n",
       "Name: video_id, dtype: int64"
      ]
     },
     "execution_count": 8,
     "metadata": {},
     "output_type": "execute_result"
    }
   ],
   "source": [
    "df[\"video_id\"].duplicated().value_counts()"
   ]
  },
  {
   "cell_type": "markdown",
   "id": "b4466e5e",
   "metadata": {},
   "source": [
    "- 중복되지 않은 video_id만 추출\n",
    "- 인기동영상 최초 지정 일자만 남김"
   ]
  },
  {
   "cell_type": "markdown",
   "id": "ad0668cc",
   "metadata": {},
   "source": [
    "### (2) categoryId & category"
   ]
  },
  {
   "cell_type": "markdown",
   "id": "2946d511",
   "metadata": {},
   "source": [
    "- categoryId 값은 숫자로 구성\n",
    "- json파일을 통해 텍스트로 구성된 category 항목을 추가 \n",
    "- 출처 : https://www.kaggle.com/code/yontodd/us-youtube-eda-when-how-often-which-category/data"
   ]
  },
  {
   "cell_type": "code",
   "execution_count": 9,
   "id": "591f5142",
   "metadata": {},
   "outputs": [
    {
     "data": {
      "text/plain": [
       "{'1': 'Film & Animation',\n",
       " '2': 'Autos & Vehicles',\n",
       " '10': 'Music',\n",
       " '15': 'Pets & Animals',\n",
       " '17': 'Sports',\n",
       " '18': 'Short Movies',\n",
       " '19': 'Travel & Events',\n",
       " '20': 'Gaming',\n",
       " '21': 'Videoblogging',\n",
       " '22': 'People & Blogs',\n",
       " '23': 'Comedy',\n",
       " '24': 'Entertainment',\n",
       " '25': 'News & Politics',\n",
       " '26': 'Howto & Style',\n",
       " '27': 'Education',\n",
       " '28': 'Science & Technology',\n",
       " '30': 'Movies',\n",
       " '31': 'Anime/Animation',\n",
       " '32': 'Action/Adventure',\n",
       " '33': 'Classics',\n",
       " '34': 'Comedy',\n",
       " '35': 'Documentary',\n",
       " '36': 'Drama',\n",
       " '37': 'Family',\n",
       " '38': 'Foreign',\n",
       " '39': 'Horror',\n",
       " '40': 'Sci-Fi/Fantasy',\n",
       " '41': 'Thriller',\n",
       " '42': 'Shorts',\n",
       " '43': 'Shows',\n",
       " '44': 'Trailers'}"
      ]
     },
     "execution_count": 9,
     "metadata": {},
     "output_type": "execute_result"
    }
   ],
   "source": [
    "id_to_category = {}\n",
    "\n",
    "with open(\"data/category_id.json\",\"r\") as f:\n",
    "    id_data = json.load(f)\n",
    "    for category in id_data[\"items\"]:\n",
    "        id_to_category[category[\"id\"]] = category[\"snippet\"][\"title\"]\n",
    "\n",
    "id_to_category"
   ]
  },
  {
   "cell_type": "code",
   "execution_count": 10,
   "id": "eb227026",
   "metadata": {},
   "outputs": [
    {
     "data": {
      "text/plain": [
       "numpy.int64"
      ]
     },
     "execution_count": 10,
     "metadata": {},
     "output_type": "execute_result"
    }
   ],
   "source": [
    "type(df[\"categoryId\"][0])"
   ]
  },
  {
   "cell_type": "code",
   "execution_count": 11,
   "id": "c0a79c6a",
   "metadata": {},
   "outputs": [],
   "source": [
    "df[\"categoryId\"] = df[\"categoryId\"].astype(str)"
   ]
  },
  {
   "cell_type": "code",
   "execution_count": 12,
   "id": "6989cc87",
   "metadata": {},
   "outputs": [],
   "source": [
    "df.insert(4, \"category\",df[\"categoryId\"].map(id_to_category))"
   ]
  },
  {
   "cell_type": "code",
   "execution_count": 13,
   "id": "3e5a6e81",
   "metadata": {},
   "outputs": [
    {
     "data": {
      "text/plain": [
       "video_id          0\n",
       "title             0\n",
       "publishedAt       0\n",
       "channelId         0\n",
       "category         27\n",
       "channelTitle      0\n",
       "categoryId        0\n",
       "trending_date     0\n",
       "tags              0\n",
       "view_count        0\n",
       "likes             0\n",
       "dislikes          0\n",
       "comment_count     0\n",
       "dtype: int64"
      ]
     },
     "execution_count": 13,
     "metadata": {},
     "output_type": "execute_result"
    }
   ],
   "source": [
    "df.isnull().sum()"
   ]
  },
  {
   "cell_type": "code",
   "execution_count": 14,
   "id": "7276f894",
   "metadata": {},
   "outputs": [
    {
     "data": {
      "text/plain": [
       "17        29\n",
       "1792      29\n",
       "2066      29\n",
       "5359      29\n",
       "8363      29\n",
       "15226     29\n",
       "16769     29\n",
       "21422     29\n",
       "23171     29\n",
       "23368     29\n",
       "24557     29\n",
       "26607     29\n",
       "27193     29\n",
       "28205     29\n",
       "31585     29\n",
       "52586     29\n",
       "79258     29\n",
       "79364     29\n",
       "80156     29\n",
       "80358     29\n",
       "80775     29\n",
       "87762     29\n",
       "96580     29\n",
       "98961     29\n",
       "102786    29\n",
       "103383    29\n",
       "104165    29\n",
       "Name: categoryId, dtype: object"
      ]
     },
     "execution_count": 14,
     "metadata": {},
     "output_type": "execute_result"
    }
   ],
   "source": [
    "df[\"categoryId\"].loc[df[\"category\"].isnull() == True]"
   ]
  },
  {
   "cell_type": "markdown",
   "id": "3de825a8",
   "metadata": {},
   "source": [
    "- categoryId의 29에 해당하는 내용이 json파일에 없어서 생긴 결측치"
   ]
  },
  {
   "cell_type": "code",
   "execution_count": 15,
   "id": "dff83590",
   "metadata": {},
   "outputs": [
    {
     "data": {
      "text/plain": [
       "17                    행정안전부\n",
       "1792            서울시 · Seoul\n",
       "2066                   조선일보\n",
       "5359          법륜스님의 희망세상만들기\n",
       "8363                    충주시\n",
       "15226                 국가보훈처\n",
       "16769              대한민국 병무청\n",
       "21422                   환경부\n",
       "23171     어슬렁 어슬렁 아프리카 벌써5년\n",
       "23368     어슬렁 어슬렁 아프리카 벌써5년\n",
       "24557           서울시 · Seoul\n",
       "26607           서울시 · Seoul\n",
       "27193            법륜스님의 즉문즉설\n",
       "28205     CalBap-캘리포니아 건강밥상\n",
       "31585                   안깨남\n",
       "52586            법륜스님의 즉문즉설\n",
       "79258        United Nations\n",
       "79364        United Nations\n",
       "80156        United Nations\n",
       "80358        Global Citizen\n",
       "80775        Global Citizen\n",
       "87762               농림축산식품부\n",
       "96580     CalBap-캘리포니아 건강밥상\n",
       "98961                  부산일보\n",
       "102786                  충주시\n",
       "103383                  안깨남\n",
       "104165                  충주시\n",
       "Name: channelTitle, dtype: object"
      ]
     },
     "execution_count": 15,
     "metadata": {},
     "output_type": "execute_result"
    }
   ],
   "source": [
    "# categoryId가 29인 인기동영상의 채널 확인...\n",
    "df[\"channelTitle\"].loc[df[\"categoryId\"] == \"29\"]"
   ]
  },
  {
   "cell_type": "markdown",
   "id": "b3cbe459",
   "metadata": {},
   "source": [
    "- categoryId가 29인 채널은 비영리 단체 및 공공기관 채널인 것을 확인"
   ]
  },
  {
   "cell_type": "code",
   "execution_count": 16,
   "id": "97432077",
   "metadata": {},
   "outputs": [],
   "source": [
    "# category의 결측치를 \"Nonprofits\"로 채우기\n",
    "df[\"category\"].loc[df[\"category\"].isnull() == True] = \"Nonprofits\""
   ]
  },
  {
   "cell_type": "code",
   "execution_count": 17,
   "id": "1d989fc0",
   "metadata": {},
   "outputs": [
    {
     "name": "stdout",
     "output_type": "stream",
     "text": [
      "<class 'pandas.core.frame.DataFrame'>\n",
      "Int64Index: 15145 entries, 0 to 119807\n",
      "Data columns (total 13 columns):\n",
      " #   Column         Non-Null Count  Dtype \n",
      "---  ------         --------------  ----- \n",
      " 0   video_id       15145 non-null  object\n",
      " 1   title          15145 non-null  object\n",
      " 2   publishedAt    15145 non-null  object\n",
      " 3   channelId      15145 non-null  object\n",
      " 4   category       15145 non-null  object\n",
      " 5   channelTitle   15145 non-null  object\n",
      " 6   categoryId     15145 non-null  object\n",
      " 7   trending_date  15145 non-null  object\n",
      " 8   tags           15145 non-null  object\n",
      " 9   view_count     15145 non-null  int64 \n",
      " 10  likes          15145 non-null  int64 \n",
      " 11  dislikes       15145 non-null  int64 \n",
      " 12  comment_count  15145 non-null  int64 \n",
      "dtypes: int64(4), object(9)\n",
      "memory usage: 2.1+ MB\n"
     ]
    }
   ],
   "source": [
    "df.info()"
   ]
  },
  {
   "cell_type": "markdown",
   "id": "5be30441",
   "metadata": {},
   "source": [
    "### (3) publishedAt & trending_date"
   ]
  },
  {
   "cell_type": "markdown",
   "id": "a1cfd441",
   "metadata": {},
   "source": [
    "- 업로드 날짜(publishedAt)와 인기동영상 선정 날짜(trending_date)를 이용해 \n",
    "- 데이터를 분석하기 위해서는 datetime형식으로 변환 필요"
   ]
  },
  {
   "cell_type": "code",
   "execution_count": 18,
   "id": "fa44844f",
   "metadata": {},
   "outputs": [
    {
     "data": {
      "text/plain": [
       "str"
      ]
     },
     "execution_count": 18,
     "metadata": {},
     "output_type": "execute_result"
    }
   ],
   "source": [
    "type(df[\"trending_date\"][0])"
   ]
  },
  {
   "cell_type": "code",
   "execution_count": 19,
   "id": "1d108b73",
   "metadata": {},
   "outputs": [
    {
     "data": {
      "text/plain": [
       "str"
      ]
     },
     "execution_count": 19,
     "metadata": {},
     "output_type": "execute_result"
    }
   ],
   "source": [
    "type(df[\"publishedAt\"][0])"
   ]
  },
  {
   "cell_type": "code",
   "execution_count": 20,
   "id": "3232f64f",
   "metadata": {},
   "outputs": [
    {
     "data": {
      "text/plain": [
       "0         2020-08-12T00:00:00Z\n",
       "1         2020-08-12T00:00:00Z\n",
       "2         2020-08-12T00:00:00Z\n",
       "3         2020-08-12T00:00:00Z\n",
       "4         2020-08-12T00:00:00Z\n",
       "                  ...         \n",
       "119783    2022-04-14T00:00:00Z\n",
       "119784    2022-04-14T00:00:00Z\n",
       "119786    2022-04-14T00:00:00Z\n",
       "119787    2022-04-14T00:00:00Z\n",
       "119807    2022-04-14T00:00:00Z\n",
       "Name: trending_date, Length: 15145, dtype: object"
      ]
     },
     "execution_count": 20,
     "metadata": {},
     "output_type": "execute_result"
    }
   ],
   "source": [
    "df[\"trending_date\"]"
   ]
  },
  {
   "cell_type": "code",
   "execution_count": 21,
   "id": "c268b429",
   "metadata": {},
   "outputs": [
    {
     "data": {
      "text/plain": [
       "0         2020-08-09T09:32:48Z\n",
       "1         2020-08-12T09:00:08Z\n",
       "2         2020-08-10T09:54:13Z\n",
       "3         2020-08-11T15:00:58Z\n",
       "4         2020-08-11T09:00:13Z\n",
       "                  ...         \n",
       "119783    2022-04-13T03:00:14Z\n",
       "119784    2022-04-13T09:00:14Z\n",
       "119786    2022-04-13T09:00:09Z\n",
       "119787    2022-04-13T08:00:11Z\n",
       "119807    2022-04-10T14:33:50Z\n",
       "Name: publishedAt, Length: 15145, dtype: object"
      ]
     },
     "execution_count": 21,
     "metadata": {},
     "output_type": "execute_result"
    }
   ],
   "source": [
    "df[\"publishedAt\"]"
   ]
  },
  {
   "cell_type": "code",
   "execution_count": 22,
   "id": "b6329197",
   "metadata": {},
   "outputs": [],
   "source": [
    "df[\"trending_date\"] = pd.to_datetime(df[\"trending_date\"],format=\"%Y-%m-%dT%H:%M:%SZ\")"
   ]
  },
  {
   "cell_type": "code",
   "execution_count": 23,
   "id": "fc61366a",
   "metadata": {},
   "outputs": [],
   "source": [
    "df[\"publishedAt\"] = pd.to_datetime(df[\"publishedAt\"],format=\"%Y-%m-%dT%H:%M:%SZ\")"
   ]
  },
  {
   "cell_type": "markdown",
   "id": "225cba7c",
   "metadata": {},
   "source": [
    "### (4) trendTime-publiTime"
   ]
  },
  {
   "cell_type": "markdown",
   "id": "afbc8307",
   "metadata": {},
   "source": [
    "- 인기동영상에 선정되기까지 걸린 시간"
   ]
  },
  {
   "cell_type": "code",
   "execution_count": 24,
   "id": "92a542ff",
   "metadata": {},
   "outputs": [],
   "source": [
    "df[\"trendTime-publiTime\"] = df[\"trending_date\"] - df[\"publishedAt\"] + timedelta(days = 1)"
   ]
  },
  {
   "cell_type": "code",
   "execution_count": 25,
   "id": "1fd76ec8",
   "metadata": {},
   "outputs": [
    {
     "data": {
      "text/plain": [
       "1 days 14:59:48    93\n",
       "1 days 14:59:50    85\n",
       "1 days 14:59:59    81\n",
       "1 days 14:59:49    72\n",
       "1 days 14:59:52    68\n",
       "                   ..\n",
       "2 days 12:57:07     1\n",
       "1 days 20:30:55     1\n",
       "2 days 08:11:54     1\n",
       "1 days 12:08:59     1\n",
       "4 days 09:26:10     1\n",
       "Name: trendTime-publiTime, Length: 8982, dtype: int64"
      ]
     },
     "execution_count": 25,
     "metadata": {},
     "output_type": "execute_result"
    }
   ],
   "source": [
    "# pd.set_option('display.max_rows', None) 모든 행 확인할 때\n",
    "df[\"trendTime-publiTime\"].value_counts()"
   ]
  },
  {
   "cell_type": "markdown",
   "id": "607042f5",
   "metadata": {},
   "source": [
    "### (5) Ratio "
   ]
  },
  {
   "cell_type": "markdown",
   "id": "8408f8d1",
   "metadata": {},
   "source": [
    "- likes/view_count - 조회수 대비 좋아요 비율\n",
    "- dislikes/view_count - 조회수 대비 싫어요 비율\n",
    "- comment_count/view_count - 조회수 대비 댓글수 비율\n",
    "- dislikes/likes 좋아요 - 대비 싫어요 비율"
   ]
  },
  {
   "cell_type": "code",
   "execution_count": 26,
   "id": "8a040c11",
   "metadata": {},
   "outputs": [],
   "source": [
    "df[\"likes/view_count\"] = df[\"likes\"] / df[\"view_count\"]\n",
    "df[\"dislikes/view_count\"] = df[\"dislikes\"] / df[\"view_count\"]\n",
    "df[\"comment_count/view_count\"] = df[\"comment_count\"] / df[\"view_count\"]\n",
    "df[\"dislikes/likes\"] = df[\"dislikes\"] / df[\"likes\"]\n",
    "df[\"dislikes/likes\"].loc[df[\"dislikes/likes\"] == np.inf] = 0"
   ]
  },
  {
   "cell_type": "code",
   "execution_count": 27,
   "id": "25f13314",
   "metadata": {},
   "outputs": [
    {
     "data": {
      "text/plain": [
       "video_id                      0\n",
       "title                         0\n",
       "publishedAt                   0\n",
       "channelId                     0\n",
       "category                      0\n",
       "channelTitle                  0\n",
       "categoryId                    0\n",
       "trending_date                 0\n",
       "tags                          0\n",
       "view_count                    0\n",
       "likes                         0\n",
       "dislikes                      0\n",
       "comment_count                 0\n",
       "trendTime-publiTime           0\n",
       "likes/view_count              1\n",
       "dislikes/view_count           1\n",
       "comment_count/view_count      1\n",
       "dislikes/likes              234\n",
       "dtype: int64"
      ]
     },
     "execution_count": 27,
     "metadata": {},
     "output_type": "execute_result"
    }
   ],
   "source": [
    "df.isnull().sum()"
   ]
  },
  {
   "cell_type": "code",
   "execution_count": 28,
   "id": "bc928d6f",
   "metadata": {},
   "outputs": [],
   "source": [
    "df[\"dislikes/likes\"].loc[df[\"dislikes/likes\"].isnull() == True] = 0\n",
    "df[\"likes/view_count\"].loc[df[\"likes/view_count\"].isnull() == True] = 0\n",
    "df[\"dislikes/view_count\"].loc[df[\"dislikes/view_count\"].isnull() == True] = 0\n",
    "df[\"comment_count/view_count\"].loc[df[\"comment_count/view_count\"].isnull() == True] = 0"
   ]
  },
  {
   "cell_type": "code",
   "execution_count": 29,
   "id": "99ef9d77",
   "metadata": {},
   "outputs": [
    {
     "data": {
      "text/plain": [
       "video_id                    0\n",
       "title                       0\n",
       "publishedAt                 0\n",
       "channelId                   0\n",
       "category                    0\n",
       "channelTitle                0\n",
       "categoryId                  0\n",
       "trending_date               0\n",
       "tags                        0\n",
       "view_count                  0\n",
       "likes                       0\n",
       "dislikes                    0\n",
       "comment_count               0\n",
       "trendTime-publiTime         0\n",
       "likes/view_count            0\n",
       "dislikes/view_count         0\n",
       "comment_count/view_count    0\n",
       "dislikes/likes              0\n",
       "dtype: int64"
      ]
     },
     "execution_count": 29,
     "metadata": {},
     "output_type": "execute_result"
    }
   ],
   "source": [
    "df.isnull().sum()"
   ]
  },
  {
   "cell_type": "markdown",
   "id": "75687ef8",
   "metadata": {},
   "source": [
    "### (6) title_length"
   ]
  },
  {
   "cell_type": "markdown",
   "id": "b5480c77",
   "metadata": {},
   "source": [
    "- 제목 길이 분석"
   ]
  },
  {
   "cell_type": "code",
   "execution_count": 30,
   "id": "1c071cb0",
   "metadata": {},
   "outputs": [],
   "source": [
    "df[\"title_length\"] = df[\"title\"].apply(lambda x : len(str(x)) if pd.isnull(x) == False  else 0 )"
   ]
  },
  {
   "cell_type": "code",
   "execution_count": 31,
   "id": "e9b1f0e3",
   "metadata": {},
   "outputs": [
    {
     "name": "stdout",
     "output_type": "stream",
     "text": [
      "<class 'pandas.core.frame.DataFrame'>\n",
      "Int64Index: 15145 entries, 0 to 119807\n",
      "Data columns (total 19 columns):\n",
      " #   Column                    Non-Null Count  Dtype          \n",
      "---  ------                    --------------  -----          \n",
      " 0   video_id                  15145 non-null  object         \n",
      " 1   title                     15145 non-null  object         \n",
      " 2   publishedAt               15145 non-null  datetime64[ns] \n",
      " 3   channelId                 15145 non-null  object         \n",
      " 4   category                  15145 non-null  object         \n",
      " 5   channelTitle              15145 non-null  object         \n",
      " 6   categoryId                15145 non-null  object         \n",
      " 7   trending_date             15145 non-null  datetime64[ns] \n",
      " 8   tags                      15145 non-null  object         \n",
      " 9   view_count                15145 non-null  int64          \n",
      " 10  likes                     15145 non-null  int64          \n",
      " 11  dislikes                  15145 non-null  int64          \n",
      " 12  comment_count             15145 non-null  int64          \n",
      " 13  trendTime-publiTime       15145 non-null  timedelta64[ns]\n",
      " 14  likes/view_count          15145 non-null  float64        \n",
      " 15  dislikes/view_count       15145 non-null  float64        \n",
      " 16  comment_count/view_count  15145 non-null  float64        \n",
      " 17  dislikes/likes            15145 non-null  float64        \n",
      " 18  title_length              15145 non-null  int64          \n",
      "dtypes: datetime64[ns](2), float64(4), int64(5), object(7), timedelta64[ns](1)\n",
      "memory usage: 2.8+ MB\n"
     ]
    }
   ],
   "source": [
    "df.info()"
   ]
  },
  {
   "cell_type": "code",
   "execution_count": 32,
   "id": "287c994d",
   "metadata": {},
   "outputs": [
    {
     "data": {
      "text/html": [
       "<div>\n",
       "<style scoped>\n",
       "    .dataframe tbody tr th:only-of-type {\n",
       "        vertical-align: middle;\n",
       "    }\n",
       "\n",
       "    .dataframe tbody tr th {\n",
       "        vertical-align: top;\n",
       "    }\n",
       "\n",
       "    .dataframe thead th {\n",
       "        text-align: right;\n",
       "    }\n",
       "</style>\n",
       "<table border=\"1\" class=\"dataframe\">\n",
       "  <thead>\n",
       "    <tr style=\"text-align: right;\">\n",
       "      <th></th>\n",
       "      <th>view_count</th>\n",
       "      <th>likes</th>\n",
       "      <th>dislikes</th>\n",
       "      <th>comment_count</th>\n",
       "      <th>trendTime-publiTime</th>\n",
       "      <th>likes/view_count</th>\n",
       "      <th>dislikes/view_count</th>\n",
       "      <th>comment_count/view_count</th>\n",
       "      <th>dislikes/likes</th>\n",
       "      <th>title_length</th>\n",
       "    </tr>\n",
       "  </thead>\n",
       "  <tbody>\n",
       "    <tr>\n",
       "      <th>count</th>\n",
       "      <td>1.514500e+04</td>\n",
       "      <td>1.514500e+04</td>\n",
       "      <td>15145.000000</td>\n",
       "      <td>1.514500e+04</td>\n",
       "      <td>15145</td>\n",
       "      <td>1.514500e+04</td>\n",
       "      <td>1.514500e+04</td>\n",
       "      <td>1.514500e+04</td>\n",
       "      <td>15145.000000</td>\n",
       "      <td>15145.000000</td>\n",
       "    </tr>\n",
       "    <tr>\n",
       "      <th>mean</th>\n",
       "      <td>7.795723e+05</td>\n",
       "      <td>4.899122e+04</td>\n",
       "      <td>564.087091</td>\n",
       "      <td>5.484379e+03</td>\n",
       "      <td>1 days 20:39:58.162826015</td>\n",
       "      <td>inf</td>\n",
       "      <td>inf</td>\n",
       "      <td>inf</td>\n",
       "      <td>0.029541</td>\n",
       "      <td>44.403103</td>\n",
       "    </tr>\n",
       "    <tr>\n",
       "      <th>std</th>\n",
       "      <td>2.214909e+06</td>\n",
       "      <td>2.370609e+05</td>\n",
       "      <td>5419.912591</td>\n",
       "      <td>5.440800e+04</td>\n",
       "      <td>0 days 22:27:51.001315065</td>\n",
       "      <td>NaN</td>\n",
       "      <td>NaN</td>\n",
       "      <td>NaN</td>\n",
       "      <td>0.169203</td>\n",
       "      <td>22.556269</td>\n",
       "    </tr>\n",
       "    <tr>\n",
       "      <th>min</th>\n",
       "      <td>0.000000e+00</td>\n",
       "      <td>0.000000e+00</td>\n",
       "      <td>0.000000</td>\n",
       "      <td>0.000000e+00</td>\n",
       "      <td>0 days 11:47:11</td>\n",
       "      <td>0.000000e+00</td>\n",
       "      <td>0.000000e+00</td>\n",
       "      <td>0.000000e+00</td>\n",
       "      <td>0.000000</td>\n",
       "      <td>1.000000</td>\n",
       "    </tr>\n",
       "    <tr>\n",
       "      <th>25%</th>\n",
       "      <td>1.769260e+05</td>\n",
       "      <td>3.710000e+03</td>\n",
       "      <td>37.000000</td>\n",
       "      <td>4.000000e+02</td>\n",
       "      <td>1 days 12:00:18</td>\n",
       "      <td>1.385256e-02</td>\n",
       "      <td>1.907997e-04</td>\n",
       "      <td>1.454364e-03</td>\n",
       "      <td>0.004536</td>\n",
       "      <td>27.000000</td>\n",
       "    </tr>\n",
       "    <tr>\n",
       "      <th>50%</th>\n",
       "      <td>3.500250e+05</td>\n",
       "      <td>7.586000e+03</td>\n",
       "      <td>106.000000</td>\n",
       "      <td>9.440000e+02</td>\n",
       "      <td>1 days 14:59:43</td>\n",
       "      <td>2.288198e-02</td>\n",
       "      <td>3.446598e-04</td>\n",
       "      <td>2.848722e-03</td>\n",
       "      <td>0.015363</td>\n",
       "      <td>41.000000</td>\n",
       "    </tr>\n",
       "    <tr>\n",
       "      <th>75%</th>\n",
       "      <td>7.233710e+05</td>\n",
       "      <td>1.790500e+04</td>\n",
       "      <td>247.000000</td>\n",
       "      <td>2.299000e+03</td>\n",
       "      <td>1 days 20:29:58</td>\n",
       "      <td>4.078821e-02</td>\n",
       "      <td>5.973853e-04</td>\n",
       "      <td>5.250060e-03</td>\n",
       "      <td>0.029262</td>\n",
       "      <td>58.000000</td>\n",
       "    </tr>\n",
       "    <tr>\n",
       "      <th>max</th>\n",
       "      <td>7.680503e+07</td>\n",
       "      <td>7.110450e+06</td>\n",
       "      <td>405428.000000</td>\n",
       "      <td>3.400571e+06</td>\n",
       "      <td>22 days 13:55:07</td>\n",
       "      <td>inf</td>\n",
       "      <td>inf</td>\n",
       "      <td>inf</td>\n",
       "      <td>7.535216</td>\n",
       "      <td>100.000000</td>\n",
       "    </tr>\n",
       "  </tbody>\n",
       "</table>\n",
       "</div>"
      ],
      "text/plain": [
       "         view_count         likes       dislikes  comment_count  \\\n",
       "count  1.514500e+04  1.514500e+04   15145.000000   1.514500e+04   \n",
       "mean   7.795723e+05  4.899122e+04     564.087091   5.484379e+03   \n",
       "std    2.214909e+06  2.370609e+05    5419.912591   5.440800e+04   \n",
       "min    0.000000e+00  0.000000e+00       0.000000   0.000000e+00   \n",
       "25%    1.769260e+05  3.710000e+03      37.000000   4.000000e+02   \n",
       "50%    3.500250e+05  7.586000e+03     106.000000   9.440000e+02   \n",
       "75%    7.233710e+05  1.790500e+04     247.000000   2.299000e+03   \n",
       "max    7.680503e+07  7.110450e+06  405428.000000   3.400571e+06   \n",
       "\n",
       "             trendTime-publiTime  likes/view_count  dislikes/view_count  \\\n",
       "count                      15145      1.514500e+04         1.514500e+04   \n",
       "mean   1 days 20:39:58.162826015               inf                  inf   \n",
       "std    0 days 22:27:51.001315065               NaN                  NaN   \n",
       "min              0 days 11:47:11      0.000000e+00         0.000000e+00   \n",
       "25%              1 days 12:00:18      1.385256e-02         1.907997e-04   \n",
       "50%              1 days 14:59:43      2.288198e-02         3.446598e-04   \n",
       "75%              1 days 20:29:58      4.078821e-02         5.973853e-04   \n",
       "max             22 days 13:55:07               inf                  inf   \n",
       "\n",
       "       comment_count/view_count  dislikes/likes  title_length  \n",
       "count              1.514500e+04    15145.000000  15145.000000  \n",
       "mean                        inf        0.029541     44.403103  \n",
       "std                         NaN        0.169203     22.556269  \n",
       "min                0.000000e+00        0.000000      1.000000  \n",
       "25%                1.454364e-03        0.004536     27.000000  \n",
       "50%                2.848722e-03        0.015363     41.000000  \n",
       "75%                5.250060e-03        0.029262     58.000000  \n",
       "max                         inf        7.535216    100.000000  "
      ]
     },
     "execution_count": 32,
     "metadata": {},
     "output_type": "execute_result"
    }
   ],
   "source": [
    "df.describe()"
   ]
  },
  {
   "cell_type": "code",
   "execution_count": null,
   "id": "830cc7ee",
   "metadata": {},
   "outputs": [],
   "source": []
  }
 ],
 "metadata": {
  "kernelspec": {
   "display_name": "Python 3 (ipykernel)",
   "language": "python",
   "name": "python3"
  },
  "language_info": {
   "codemirror_mode": {
    "name": "ipython",
    "version": 3
   },
   "file_extension": ".py",
   "mimetype": "text/x-python",
   "name": "python",
   "nbconvert_exporter": "python",
   "pygments_lexer": "ipython3",
   "version": "3.8.12"
  }
 },
 "nbformat": 4,
 "nbformat_minor": 5
}
